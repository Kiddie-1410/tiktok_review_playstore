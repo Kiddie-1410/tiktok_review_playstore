{
 "cells": [
  {
   "cell_type": "markdown",
   "metadata": {},
   "source": [
    "# library"
   ]
  },
  {
   "cell_type": "code",
   "execution_count": 2,
   "metadata": {},
   "outputs": [],
   "source": [
    "# scraping tools\n",
    "from google_play_scraper import app, Sort, reviews\n",
    "# from app_store_scraper import AppStore\n",
    "\n",
    "# dataframe\n",
    "import pandas as pd\n",
    "import numpy as np\n",
    "pd.set_option('display.max_row',None)\n",
    "pd.set_option('display.max_column',None)\n",
    "# to plot\n",
    "import matplotlib.pyplot as plt \n",
    "\n",
    "# Vietnamese NLP\n",
    "from underthesea import sentiment     # check sentence sentiment\n",
    "from underthesea import classify      # check sentence topic\n",
    "from underthesea import word_tokenize # words segmentation\n"
   ]
  },
  {
   "cell_type": "markdown",
   "metadata": {},
   "source": [
    "# scraping"
   ]
  },
  {
   "cell_type": "code",
   "execution_count": 10,
   "metadata": {},
   "outputs": [],
   "source": [
    "# link to scrape: https://play.google.com/store/apps/details?id=com.ss.android.ugc.trill&hl=vi-VN"
   ]
  },
  {
   "cell_type": "code",
   "execution_count": 3,
   "metadata": {},
   "outputs": [],
   "source": [
    "# get data from Google store website\n",
    "result, continuation_token = reviews(\n",
    "    'com.ss.android.ugc.trill',\n",
    "    lang='en',\n",
    "    # country='vn',\n",
    "    sort=Sort.NEWEST,\n",
    "    count=100000,\n",
    "    filter_score_with= None\n",
    ")"
   ]
  },
  {
   "cell_type": "code",
   "execution_count": 4,
   "metadata": {},
   "outputs": [
    {
     "name": "stdout",
     "output_type": "stream",
     "text": [
      "<class 'pandas.core.frame.DataFrame'>\n",
      "RangeIndex: 100000 entries, 0 to 99999\n",
      "Data columns (total 11 columns):\n",
      " #   Column                Non-Null Count   Dtype         \n",
      "---  ------                --------------   -----         \n",
      " 0   reviewId              100000 non-null  object        \n",
      " 1   userName              100000 non-null  object        \n",
      " 2   userImage             100000 non-null  object        \n",
      " 3   content               99987 non-null   object        \n",
      " 4   score                 100000 non-null  int64         \n",
      " 5   thumbsUpCount         100000 non-null  int64         \n",
      " 6   reviewCreatedVersion  67115 non-null   object        \n",
      " 7   at                    100000 non-null  datetime64[ns]\n",
      " 8   replyContent          1409 non-null    object        \n",
      " 9   repliedAt             1409 non-null    datetime64[ns]\n",
      " 10  appVersion            67115 non-null   object        \n",
      "dtypes: datetime64[ns](2), int64(2), object(7)\n",
      "memory usage: 8.4+ MB\n"
     ]
    }
   ],
   "source": [
    "# convert to dataframe\n",
    "data = pd.DataFrame(np.array(result),columns=['review'])\n",
    "data = data.join(pd.DataFrame(data.pop('review').tolist()))\n",
    "data.info()"
   ]
  },
  {
   "cell_type": "code",
   "execution_count": 5,
   "metadata": {},
   "outputs": [
    {
     "data": {
      "text/plain": [
       "at\n",
       "2024    75191\n",
       "2023    24809\n",
       "Name: count, dtype: int64"
      ]
     },
     "execution_count": 5,
     "metadata": {},
     "output_type": "execute_result"
    }
   ],
   "source": [
    "data['at'].dt.year.value_counts()"
   ]
  },
  {
   "cell_type": "code",
   "execution_count": 6,
   "metadata": {},
   "outputs": [
    {
     "name": "stdout",
     "output_type": "stream",
     "text": [
      "<class 'pandas.core.frame.DataFrame'>\n",
      "Index: 75191 entries, 0 to 75190\n",
      "Data columns (total 11 columns):\n",
      " #   Column                Non-Null Count  Dtype         \n",
      "---  ------                --------------  -----         \n",
      " 0   reviewId              75191 non-null  object        \n",
      " 1   userName              75191 non-null  object        \n",
      " 2   userImage             75191 non-null  object        \n",
      " 3   content               75179 non-null  object        \n",
      " 4   score                 75191 non-null  int64         \n",
      " 5   thumbsUpCount         75191 non-null  int64         \n",
      " 6   reviewCreatedVersion  49613 non-null  object        \n",
      " 7   at                    75191 non-null  datetime64[ns]\n",
      " 8   replyContent          1384 non-null   object        \n",
      " 9   repliedAt             1384 non-null   datetime64[ns]\n",
      " 10  appVersion            49613 non-null  object        \n",
      "dtypes: datetime64[ns](2), int64(2), object(7)\n",
      "memory usage: 6.9+ MB\n"
     ]
    }
   ],
   "source": [
    "# extract data from 2024\n",
    "review_2024 = data[data['at'].dt.year == 2024]\n",
    "review_2024.info()"
   ]
  },
  {
   "cell_type": "code",
   "execution_count": 7,
   "metadata": {},
   "outputs": [],
   "source": [
    "review_2024.to_csv('review_2024_en_tiktok.csv', index=False)"
   ]
  },
  {
   "cell_type": "code",
   "execution_count": 8,
   "metadata": {},
   "outputs": [
    {
     "data": {
      "text/html": [
       "<div>\n",
       "<style scoped>\n",
       "    .dataframe tbody tr th:only-of-type {\n",
       "        vertical-align: middle;\n",
       "    }\n",
       "\n",
       "    .dataframe tbody tr th {\n",
       "        vertical-align: top;\n",
       "    }\n",
       "\n",
       "    .dataframe thead th {\n",
       "        text-align: right;\n",
       "    }\n",
       "</style>\n",
       "<table border=\"1\" class=\"dataframe\">\n",
       "  <thead>\n",
       "    <tr style=\"text-align: right;\">\n",
       "      <th></th>\n",
       "      <th>reviewId</th>\n",
       "      <th>userName</th>\n",
       "      <th>userImage</th>\n",
       "      <th>content</th>\n",
       "      <th>score</th>\n",
       "      <th>thumbsUpCount</th>\n",
       "      <th>reviewCreatedVersion</th>\n",
       "      <th>at</th>\n",
       "      <th>replyContent</th>\n",
       "      <th>repliedAt</th>\n",
       "      <th>appVersion</th>\n",
       "    </tr>\n",
       "  </thead>\n",
       "  <tbody>\n",
       "    <tr>\n",
       "      <th>0</th>\n",
       "      <td>b9129a36-6af3-43c6-9f44-bf29fc7b2edb</td>\n",
       "      <td>A Google user</td>\n",
       "      <td>https://play-lh.googleusercontent.com/EGemoI2N...</td>\n",
       "      <td>Boleh lah</td>\n",
       "      <td>4</td>\n",
       "      <td>0</td>\n",
       "      <td>35.9.4</td>\n",
       "      <td>2024-08-11 10:02:53</td>\n",
       "      <td>None</td>\n",
       "      <td>NaT</td>\n",
       "      <td>35.9.4</td>\n",
       "    </tr>\n",
       "    <tr>\n",
       "      <th>1</th>\n",
       "      <td>18d26635-c231-42a8-951a-08cc558ab832</td>\n",
       "      <td>A Google user</td>\n",
       "      <td>https://play-lh.googleusercontent.com/EGemoI2N...</td>\n",
       "      <td>it's kinda odd cause I don't see who like my r...</td>\n",
       "      <td>3</td>\n",
       "      <td>0</td>\n",
       "      <td>35.6.3</td>\n",
       "      <td>2024-08-11 09:59:08</td>\n",
       "      <td>None</td>\n",
       "      <td>NaT</td>\n",
       "      <td>35.6.3</td>\n",
       "    </tr>\n",
       "    <tr>\n",
       "      <th>2</th>\n",
       "      <td>aa0a34bf-286f-4b21-a543-d7bdd27f793b</td>\n",
       "      <td>A Google user</td>\n",
       "      <td>https://play-lh.googleusercontent.com/EGemoI2N...</td>\n",
       "      <td>Pls give me dark mode im begging you</td>\n",
       "      <td>3</td>\n",
       "      <td>0</td>\n",
       "      <td>35.9.4</td>\n",
       "      <td>2024-08-11 09:57:57</td>\n",
       "      <td>None</td>\n",
       "      <td>NaT</td>\n",
       "      <td>35.9.4</td>\n",
       "    </tr>\n",
       "    <tr>\n",
       "      <th>3</th>\n",
       "      <td>42973f46-4f63-47de-a6f7-a85266b2b035</td>\n",
       "      <td>A Google user</td>\n",
       "      <td>https://play-lh.googleusercontent.com/EGemoI2N...</td>\n",
       "      <td>It's fun I can watch videos I want</td>\n",
       "      <td>5</td>\n",
       "      <td>0</td>\n",
       "      <td>None</td>\n",
       "      <td>2024-08-11 09:57:04</td>\n",
       "      <td>None</td>\n",
       "      <td>NaT</td>\n",
       "      <td>None</td>\n",
       "    </tr>\n",
       "    <tr>\n",
       "      <th>4</th>\n",
       "      <td>eff5d04a-91da-4f1c-9531-5d182429844c</td>\n",
       "      <td>A Google user</td>\n",
       "      <td>https://play-lh.googleusercontent.com/EGemoI2N...</td>\n",
       "      <td>Its so amazing❤️❤️❤️</td>\n",
       "      <td>5</td>\n",
       "      <td>0</td>\n",
       "      <td>35.9.4</td>\n",
       "      <td>2024-08-11 09:56:30</td>\n",
       "      <td>None</td>\n",
       "      <td>NaT</td>\n",
       "      <td>35.9.4</td>\n",
       "    </tr>\n",
       "  </tbody>\n",
       "</table>\n",
       "</div>"
      ],
      "text/plain": [
       "                               reviewId       userName   \n",
       "0  b9129a36-6af3-43c6-9f44-bf29fc7b2edb  A Google user  \\\n",
       "1  18d26635-c231-42a8-951a-08cc558ab832  A Google user   \n",
       "2  aa0a34bf-286f-4b21-a543-d7bdd27f793b  A Google user   \n",
       "3  42973f46-4f63-47de-a6f7-a85266b2b035  A Google user   \n",
       "4  eff5d04a-91da-4f1c-9531-5d182429844c  A Google user   \n",
       "\n",
       "                                           userImage   \n",
       "0  https://play-lh.googleusercontent.com/EGemoI2N...  \\\n",
       "1  https://play-lh.googleusercontent.com/EGemoI2N...   \n",
       "2  https://play-lh.googleusercontent.com/EGemoI2N...   \n",
       "3  https://play-lh.googleusercontent.com/EGemoI2N...   \n",
       "4  https://play-lh.googleusercontent.com/EGemoI2N...   \n",
       "\n",
       "                                             content  score  thumbsUpCount   \n",
       "0                                          Boleh lah      4              0  \\\n",
       "1  it's kinda odd cause I don't see who like my r...      3              0   \n",
       "2               Pls give me dark mode im begging you      3              0   \n",
       "3                 It's fun I can watch videos I want      5              0   \n",
       "4                               Its so amazing❤️❤️❤️      5              0   \n",
       "\n",
       "  reviewCreatedVersion                  at replyContent repliedAt appVersion  \n",
       "0               35.9.4 2024-08-11 10:02:53         None       NaT     35.9.4  \n",
       "1               35.6.3 2024-08-11 09:59:08         None       NaT     35.6.3  \n",
       "2               35.9.4 2024-08-11 09:57:57         None       NaT     35.9.4  \n",
       "3                 None 2024-08-11 09:57:04         None       NaT       None  \n",
       "4               35.9.4 2024-08-11 09:56:30         None       NaT     35.9.4  "
      ]
     },
     "execution_count": 8,
     "metadata": {},
     "output_type": "execute_result"
    }
   ],
   "source": [
    "review_2024.head()"
   ]
  },
  {
   "cell_type": "markdown",
   "metadata": {},
   "source": [
    "# testing NLP tools"
   ]
  },
  {
   "cell_type": "code",
   "execution_count": 18,
   "metadata": {},
   "outputs": [
    {
     "data": {
      "text/plain": [
       "'negative'"
      ]
     },
     "execution_count": 18,
     "metadata": {},
     "output_type": "execute_result"
    }
   ],
   "source": [
    "sentiment('thấy giao hàng nhanh nhưng chất lượng hàng thì tệ lắm')"
   ]
  },
  {
   "cell_type": "code",
   "execution_count": 41,
   "metadata": {},
   "outputs": [
    {
     "data": {
      "text/plain": [
       "['suc_khoe']"
      ]
     },
     "execution_count": 41,
     "metadata": {},
     "output_type": "execute_result"
    }
   ],
   "source": [
    "classify('thấy kiểm duyệt không được tốt cho lắm')"
   ]
  },
  {
   "cell_type": "code",
   "execution_count": 43,
   "metadata": {},
   "outputs": [
    {
     "data": {
      "text/plain": [
       "['kiểm duyệt',\n",
       " 'rất',\n",
       " 'là',\n",
       " 'tệ',\n",
       " ',',\n",
       " 'tik tok',\n",
       " 'thì',\n",
       " 'cũng',\n",
       " 'hay',\n",
       " 'đó',\n",
       " 'nhiều',\n",
       " 'video',\n",
       " 'vui',\n",
       " ',',\n",
       " 'nhưng mà',\n",
       " 'nhiều',\n",
       " 'thứ',\n",
       " 'khác',\n",
       " 'thì',\n",
       " 'như',\n",
       " 'cccccc']"
      ]
     },
     "execution_count": 43,
     "metadata": {},
     "output_type": "execute_result"
    }
   ],
   "source": [
    "word_tokenize('kiểm duyệt rất là tệ, tik tok thì cũng hay đó nhiều video vui, nhưng mà nhiều thứ khác thì như cccccc')"
   ]
  }
 ],
 "metadata": {
  "kernelspec": {
   "display_name": "Python 3",
   "language": "python",
   "name": "python3"
  },
  "language_info": {
   "codemirror_mode": {
    "name": "ipython",
    "version": 3
   },
   "file_extension": ".py",
   "mimetype": "text/x-python",
   "name": "python",
   "nbconvert_exporter": "python",
   "pygments_lexer": "ipython3",
   "version": "3.10.6"
  }
 },
 "nbformat": 4,
 "nbformat_minor": 2
}
